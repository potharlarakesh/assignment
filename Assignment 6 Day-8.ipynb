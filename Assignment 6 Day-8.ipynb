{
 "cells": [
  {
   "cell_type": "markdown",
   "metadata": {},
   "source": [
    "# Question 1"
   ]
  },
  {
   "cell_type": "code",
   "execution_count": 1,
   "metadata": {},
   "outputs": [],
   "source": [
    "# Decorator\n",
    "\n",
    "def getInput(calculate_arg_fun):\n",
    "    \n",
    "    def wrap_function():\n",
    "    \n",
    "        a = int(input(\"\\nEnter First Number - \"))\n",
    "        \n",
    "        b = int(input(\"\\nEnter Second Number - \"))\n",
    "        \n",
    "        calculate_arg_fun(a,b)   \n",
    "    \n",
    "    return wrap_function"
   ]
  },
  {
   "cell_type": "code",
   "execution_count": 2,
   "metadata": {},
   "outputs": [],
   "source": [
    "# calling decorator for input\n",
    "\n",
    "@getInput\n",
    "\n",
    "def EvenFinder(start, last):\n",
    "    \n",
    "    print(\"\\nThe Even numbers in the range\",start,\"to\",last,\"is :\\n\")\n",
    "\n",
    "    for n in range(start, last + 1): \n",
    "      \n",
    "        if n % 2 == 0: \n",
    "            \n",
    "            print(n, end = \" \")"
   ]
  },
  {
   "cell_type": "code",
   "execution_count": 4,
   "metadata": {},
   "outputs": [
    {
     "name": "stdout",
     "output_type": "stream",
     "text": [
      "\n",
      "Enter First Number - 1\n",
      "\n",
      "Enter Second Number - 30\n",
      "\n",
      "The Even numbers in the range 1 to 30 is :\n",
      "\n",
      "2 4 6 8 10 12 14 16 18 20 22 24 26 28 30 "
     ]
    }
   ],
   "source": [
    "EvenFinder()"
   ]
  },
  {
   "cell_type": "markdown",
   "metadata": {},
   "source": [
    "# Question 2\n",
    "# Exception Handling "
   ]
  },
  {
   "cell_type": "code",
   "execution_count": 12,
   "metadata": {},
   "outputs": [
    {
     "name": "stdout",
     "output_type": "stream",
     "text": [
      "Overwriting test.txt\n"
     ]
    }
   ],
   "source": [
    "%%writefile test.txt\n",
    "\n",
    "Hi this is Prani\n",
    "i love letsupgrade"
   ]
  },
  {
   "cell_type": "code",
   "execution_count": 13,
   "metadata": {},
   "outputs": [
    {
     "data": {
      "text/plain": [
       "'\\nHi this is Prani\\ni love letsupgrade\\n'"
      ]
     },
     "execution_count": 13,
     "metadata": {},
     "output_type": "execute_result"
    }
   ],
   "source": [
    "f = open(\"test.txt\",'r')\n",
    "f.read()"
   ]
  },
  {
   "cell_type": "code",
   "execution_count": 17,
   "metadata": {},
   "outputs": [
    {
     "name": "stdout",
     "output_type": "stream",
     "text": [
      "unable to write to file due to the read mode of file\n"
     ]
    }
   ],
   "source": [
    "try:\n",
    "    f.write(\"my first file\\n\")\n",
    "except:\n",
    "    print(\"unable to write to file due to the read mode of file\")\n",
    "finally:\n",
    "    f.close()"
   ]
  },
  {
   "cell_type": "code",
   "execution_count": null,
   "metadata": {},
   "outputs": [],
   "source": []
  }
 ],
 "metadata": {
  "kernelspec": {
   "display_name": "Python 3",
   "language": "python",
   "name": "python3"
  },
  "language_info": {
   "codemirror_mode": {
    "name": "ipython",
    "version": 3
   },
   "file_extension": ".py",
   "mimetype": "text/x-python",
   "name": "python",
   "nbconvert_exporter": "python",
   "pygments_lexer": "ipython3",
   "version": "3.8.3"
  }
 },
 "nbformat": 4,
 "nbformat_minor": 4
}
